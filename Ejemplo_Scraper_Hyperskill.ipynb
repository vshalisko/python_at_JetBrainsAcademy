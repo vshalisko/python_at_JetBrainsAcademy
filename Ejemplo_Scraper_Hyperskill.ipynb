{
  "nbformat": 4,
  "nbformat_minor": 0,
  "metadata": {
    "colab": {
      "provenance": [],
      "authorship_tag": "ABX9TyO/Ph8ebKtC07e3Tpw+XU1g",
      "include_colab_link": true
    },
    "kernelspec": {
      "name": "python3",
      "display_name": "Python 3"
    },
    "language_info": {
      "name": "python"
    }
  },
  "cells": [
    {
      "cell_type": "markdown",
      "metadata": {
        "id": "view-in-github",
        "colab_type": "text"
      },
      "source": [
        "<a href=\"https://colab.research.google.com/github/vshalisko/python_at_JetBrainsAcademy/blob/main/Ejemplo_Scraper_Hyperskill.ipynb\" target=\"_parent\"><img src=\"https://colab.research.google.com/assets/colab-badge.svg\" alt=\"Open In Colab\"/></a>"
      ]
    },
    {
      "cell_type": "code",
      "execution_count": 2,
      "metadata": {
        "id": "YLoYsKsoy7Gr"
      },
      "outputs": [],
      "source": [
        "import requests\n",
        "from bs4 import BeautifulSoup"
      ]
    },
    {
      "cell_type": "code",
      "source": [
        "from google.colab import drive\n",
        "drive.mount('/content/drive')"
      ],
      "metadata": {
        "colab": {
          "base_uri": "https://localhost:8080/"
        },
        "id": "_22p-8hGbcFx",
        "outputId": "938ef36f-0a0a-49fe-ff7d-fab6efb65ba6"
      },
      "execution_count": 1,
      "outputs": [
        {
          "output_type": "stream",
          "name": "stdout",
          "text": [
            "Mounted at /content/drive\n"
          ]
        }
      ]
    },
    {
      "cell_type": "markdown",
      "source": [
        "* Url 0: https://icanhazdadjoke.com/j/R7UfaahVfFd\n",
        "* Url 1: https://www.nature.com/articles/d41586-023-00103-3"
      ],
      "metadata": {
        "id": "SBgXs4B2b2cZ"
      }
    },
    {
      "cell_type": "code",
      "source": [
        "print('Input the URL:')\n",
        "url = str(input())"
      ],
      "metadata": {
        "colab": {
          "base_uri": "https://localhost:8080/"
        },
        "id": "ej87w4VV0svZ",
        "outputId": "532094e2-e580-4685-c834-5038d6b8dc94"
      },
      "execution_count": 4,
      "outputs": [
        {
          "name": "stdout",
          "output_type": "stream",
          "text": [
            "Input the URL:\n",
            "https://www.nature.com/articles/d41586-023-00103-3\n"
          ]
        }
      ]
    },
    {
      "cell_type": "code",
      "source": [
        "try:\n",
        "    response = requests.get(url,\n",
        "                            headers={'Accept': 'application/json',\n",
        "                                     'Accept-Language': 'en-US,en;q=0.5'})\n",
        "    if response.status_code == 200:\n",
        "        data = response.json()\n",
        "        if 'joke' in data:\n",
        "            print(data['joke'])\n",
        "        else:\n",
        "            print('Invalid resource!')\n",
        "    else:\n",
        "        print('Invalid resource!')\n",
        "except requests.exceptions.RequestException:\n",
        "    print('Invalid resource!')"
      ],
      "metadata": {
        "colab": {
          "base_uri": "https://localhost:8080/"
        },
        "id": "9rQGAagB0pau",
        "outputId": "cef60567-cf1c-4f34-b0e0-f2e4d7af7423"
      },
      "execution_count": 6,
      "outputs": [
        {
          "output_type": "stream",
          "name": "stdout",
          "text": [
            "My dog used to chase people on a bike a lot. It got so bad I had to take his bike away.\n"
          ]
        }
      ]
    },
    {
      "cell_type": "code",
      "source": [
        "if 'nature.com/articles/' in url:\n",
        "    try:\n",
        "        response = requests.get(url)\n",
        "        if response.status_code == 200:\n",
        "            soup = BeautifulSoup(response.content, 'html.parser')\n",
        "            title = soup.find('title').get_text() if soup.find('title') else 'N/A'\n",
        "            description_meta = soup.find('meta', {'name': 'description'})\n",
        "            description = description_meta['content'] if description_meta and 'content' in description_meta.attrs else 'N/A'\n",
        "            print({\"title\": title, \"description\": description})\n",
        "        else:\n",
        "            print('Invalid page!')\n",
        "    except requests.exceptions.RequestException:\n",
        "        print('Invalid page!')\n",
        "else:\n",
        "    print('Invalid page!')"
      ],
      "metadata": {
        "colab": {
          "base_uri": "https://localhost:8080/"
        },
        "id": "Jckf_hJA2qPl",
        "outputId": "b4029f2e-b67b-48bc-ed66-8ae765c9b450"
      },
      "execution_count": 7,
      "outputs": [
        {
          "output_type": "stream",
          "name": "stdout",
          "text": [
            "Input the URL:\n",
            " https://www.nature.com/articles/d41586-023-00103-3\n",
            "{'title': 'Night skies are brightening — and dimming the outlook for astronomy', 'description': 'Fewer stars are visible worldwide now than a decade ago, according to measurements by community scientists.'}\n"
          ]
        }
      ]
    },
    {
      "cell_type": "code",
      "source": [
        "from http import HTTPStatus\n",
        "\n",
        "path = '/content/drive/MyDrive/Colab Data/'\n",
        "filename = 'source.html'\n",
        "path_filename = path + filename\n",
        "\n",
        "try:\n",
        "    response = requests.get(url)\n",
        "    if response.status_code == HTTPStatus.OK:\n",
        "        with open(path + filename, 'wb') as f:\n",
        "            f.write(response.content)\n",
        "        print(f'Content saved at {path_filename}.')\n",
        "    else:\n",
        "        print(f'The URL returned {response.status_code}!')\n",
        "except requests.exceptions.RequestException:\n",
        "    print('Invalid URL or network error.')"
      ],
      "metadata": {
        "colab": {
          "base_uri": "https://localhost:8080/"
        },
        "id": "VCkrsJGE3_mB",
        "outputId": "09654c97-50b0-4ea7-e9ee-b0f8dc5490a8"
      },
      "execution_count": 7,
      "outputs": [
        {
          "output_type": "stream",
          "name": "stdout",
          "text": [
            "Content saved at /content/drive/MyDrive/Colab Data/source.html.\n"
          ]
        }
      ]
    }
  ]
}