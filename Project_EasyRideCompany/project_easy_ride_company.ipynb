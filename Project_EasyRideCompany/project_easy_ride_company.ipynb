{
  "nbformat": 4,
  "nbformat_minor": 0,
  "metadata": {
    "colab": {
      "provenance": [],
      "authorship_tag": "ABX9TyNoV3DvYyITG4o3YvFjXu2Z",
      "include_colab_link": true
    },
    "kernelspec": {
      "name": "python3",
      "display_name": "Python 3"
    },
    "language_info": {
      "name": "python"
    }
  },
  "cells": [
    {
      "cell_type": "markdown",
      "metadata": {
        "id": "view-in-github",
        "colab_type": "text"
      },
      "source": [
        "<a href=\"https://colab.research.google.com/github/vshalisko/python_at_JetBrainsAcademy/blob/main/Project_EasyRideCompany/project_easy_ride_company.ipynb\" target=\"_parent\"><img src=\"https://colab.research.google.com/assets/colab-badge.svg\" alt=\"Open In Colab\"/></a>"
      ]
    },
    {
      "cell_type": "code",
      "execution_count": 3,
      "metadata": {
        "id": "3-ZbvRHbNV-e"
      },
      "outputs": [],
      "source": [
        "input_json = '''[\n",
        "    {\n",
        "        \"bus_id\": 128,\n",
        "        \"stop_id\": 1,\n",
        "        \"stop_name\": \"Prospekt Avenue\",\n",
        "        \"next_stop\": 3,\n",
        "        \"stop_type\": \"S\",\n",
        "        \"a_time\": 8.12\n",
        "    },\n",
        "    {\n",
        "        \"bus_id\": 128,\n",
        "        \"stop_id\": 3,\n",
        "        \"stop_name\": \"\",\n",
        "        \"next_stop\": 5,\n",
        "        \"stop_type\": \"\",\n",
        "        \"a_time\": \"08:19\"\n",
        "    },\n",
        "    {\n",
        "        \"bus_id\": 128,\n",
        "        \"stop_id\": 5,\n",
        "        \"stop_name\": \"Fifth Avenue\",\n",
        "        \"next_stop\": 7,\n",
        "        \"stop_type\": \"O\",\n",
        "        \"a_time\": \"08:25\"\n",
        "    },\n",
        "    {\n",
        "        \"bus_id\": 128,\n",
        "        \"stop_id\": \"7\",\n",
        "        \"stop_name\": \"Sesame Street\",\n",
        "        \"next_stop\": 0,\n",
        "        \"stop_type\": \"F\",\n",
        "        \"a_time\": \"08:37\"\n",
        "    },\n",
        "    {\n",
        "        \"bus_id\": \"\",\n",
        "        \"stop_id\": 2,\n",
        "        \"stop_name\": \"Pilotow Street\",\n",
        "        \"next_stop\": 3,\n",
        "        \"stop_type\": \"S\",\n",
        "        \"a_time\": \"\"\n",
        "    },\n",
        "    {\n",
        "        \"bus_id\": 256,\n",
        "        \"stop_id\": 3,\n",
        "        \"stop_name\": \"Elm Street\",\n",
        "        \"next_stop\": 6,\n",
        "        \"stop_type\": \"\",\n",
        "        \"a_time\": \"09:45\"\n",
        "    },\n",
        "    {\n",
        "        \"bus_id\": 256,\n",
        "        \"stop_id\": 6,\n",
        "        \"stop_name\": \"Sunset Boulevard\",\n",
        "        \"next_stop\": 7,\n",
        "        \"stop_type\": \"\",\n",
        "        \"a_time\": \"09:59\"\n",
        "    },\n",
        "    {\n",
        "        \"bus_id\": 256,\n",
        "        \"stop_id\": 7,\n",
        "        \"stop_name\": \"Sesame Street\",\n",
        "        \"next_stop\": \"0\",\n",
        "        \"stop_type\": \"F\",\n",
        "        \"a_time\": \"10:12\"\n",
        "    },\n",
        "    {\n",
        "        \"bus_id\": 512,\n",
        "        \"stop_id\": 4,\n",
        "        \"stop_name\": \"Bourbon Street\",\n",
        "        \"next_stop\": 6,\n",
        "        \"stop_type\": \"S\",\n",
        "        \"a_time\": \"08:13\"\n",
        "    },\n",
        "    {\n",
        "        \"bus_id\": \"512\",\n",
        "        \"stop_id\": 6,\n",
        "        \"stop_name\": \"Sunset Boulevard\",\n",
        "        \"next_stop\": 0,\n",
        "        \"stop_type\": 5,\n",
        "        \"a_time\": \"08:16\"\n",
        "    }\n",
        "]'''"
      ]
    },
    {
      "cell_type": "markdown",
      "source": [
        "## Stage 1"
      ],
      "metadata": {
        "id": "0-hWeA-3Sf77"
      }
    },
    {
      "cell_type": "code",
      "source": [
        "import json\n",
        "\n",
        "data = json.loads(input_json)\n",
        "\n",
        "errors = {\n",
        "    \"total\": 0,\n",
        "    \"bus_id\": 0,\n",
        "    \"stop_id\": 0,\n",
        "    \"stop_name\": 0,\n",
        "    \"next_stop\": 0,\n",
        "    \"stop_type\": 0,\n",
        "    \"a_time\": 0,\n",
        "}\n",
        "\n",
        "required_fields = [\"bus_id\", \"stop_id\", \"stop_name\", \"next_stop\", \"a_time\"]\n",
        "fields_in_order = [\"bus_id\", \"stop_id\", \"stop_name\", \"next_stop\", \"stop_type\", \"a_time\"]\n",
        "\n",
        "field_types = {\n",
        "    \"bus_id\": int,\n",
        "    \"stop_id\": int,\n",
        "    \"stop_name\": str,\n",
        "    \"next_stop\": int,\n",
        "    \"stop_type\": str,\n",
        "    \"a_time\": str,\n",
        "}\n",
        "\n",
        "for record in data:\n",
        "    for field in required_fields:\n",
        "        if field not in record or record[field] == \"\":\n",
        "            errors[field] += 1\n",
        "            errors[\"total\"] += 1\n",
        "\n",
        "    for field, field_type in field_types.items():\n",
        "        if field in record and record[field] != \"\":\n",
        "            if field == \"stop_type\":\n",
        "                if not (isinstance(record[field], field_type) and (len(record[field]) == 1 or len(record[field]) == 0)):\n",
        "                     errors[field] += 1\n",
        "                     errors[\"total\"] += 1\n",
        "            else:\n",
        "                if not isinstance(record[field], field_type):\n",
        "                    # Handle specific cases for string representations of numbers (not required)\n",
        "                    #if field_type == int:\n",
        "                    #    try:\n",
        "                    #        int(record[field])\n",
        "                    #    except (ValueError, TypeError):\n",
        "                    #        errors[field] += 1\n",
        "                    #        errors[\"total\"] += 1\n",
        "                    #else:\n",
        "                    errors[field] += 1\n",
        "                    errors[\"total\"] += 1\n",
        "\n",
        "\n",
        "print(f\"Type and field validation: {errors['total']} errors\")\n",
        "for field in fields_in_order:\n",
        "    if field != \"total\":\n",
        "        print(f\"{field}: {errors[field]}\")"
      ],
      "metadata": {
        "colab": {
          "base_uri": "https://localhost:8080/"
        },
        "id": "1Rz3Q2XGNm38",
        "outputId": "f0294df0-47fe-4a92-d6c8-ea404771cbc2"
      },
      "execution_count": 5,
      "outputs": [
        {
          "output_type": "stream",
          "name": "stdout",
          "text": [
            "Type and field validation: 8 errors\n",
            "bus_id: 2\n",
            "stop_id: 1\n",
            "stop_name: 1\n",
            "next_stop: 1\n",
            "stop_type: 1\n",
            "a_time: 2\n"
          ]
        }
      ]
    }
  ]
}