{
  "nbformat": 4,
  "nbformat_minor": 0,
  "metadata": {
    "colab": {
      "provenance": [],
      "authorship_tag": "ABX9TyNe5fppkI7bodfeDhXXFUo6",
      "include_colab_link": true
    },
    "kernelspec": {
      "name": "python3",
      "display_name": "Python 3"
    },
    "language_info": {
      "name": "python"
    }
  },
  "cells": [
    {
      "cell_type": "markdown",
      "metadata": {
        "id": "view-in-github",
        "colab_type": "text"
      },
      "source": [
        "<a href=\"https://colab.research.google.com/github/vshalisko/python_at_JetBrainsAcademy/blob/main/Project_EasyRideCompany/project_easy_ride_company_stages_3_and_4.ipynb\" target=\"_parent\"><img src=\"https://colab.research.google.com/assets/colab-badge.svg\" alt=\"Open In Colab\"/></a>"
      ]
    },
    {
      "cell_type": "code",
      "execution_count": 18,
      "metadata": {
        "id": "3-ZbvRHbNV-e"
      },
      "outputs": [],
      "source": [
        "input_json = ''' [\n",
        "    {\n",
        "        \"bus_id\": 128,\n",
        "        \"stop_id\": 1,\n",
        "        \"stop_name\": \"Prospekt Av.\",\n",
        "        \"next_stop\": 3,\n",
        "        \"stop_type\": \"S\",\n",
        "        \"a_time\": \"08:12\"\n",
        "    },\n",
        "    {\n",
        "        \"bus_id\": 128,\n",
        "        \"stop_id\": 3,\n",
        "        \"stop_name\": \"Elm Street\",\n",
        "        \"next_stop\": 5,\n",
        "        \"stop_type\": \"\",\n",
        "        \"a_time\": \"8:19\"\n",
        "    },\n",
        "    {\n",
        "        \"bus_id\": 128,\n",
        "        \"stop_id\": 5,\n",
        "        \"stop_name\": \"Fifth Avenue\",\n",
        "        \"next_stop\": 7,\n",
        "        \"stop_type\": \"K\",\n",
        "        \"a_time\": \"08:25\"\n",
        "    },\n",
        "    {\n",
        "        \"bus_id\": 128,\n",
        "        \"stop_id\": \"7\",\n",
        "        \"stop_name\": \"Sesame Street\",\n",
        "        \"next_stop\": 0,\n",
        "        \"stop_type\": \"F\",\n",
        "        \"a_time\": \"08:77\"\n",
        "    },\n",
        "    {\n",
        "        \"bus_id\": 256,\n",
        "        \"stop_id\": 2,\n",
        "        \"stop_name\": \"Pilotow Street\",\n",
        "        \"next_stop\": 3,\n",
        "        \"stop_type\": \"S\",\n",
        "        \"a_time\": \"09:20\"\n",
        "    },\n",
        "    {\n",
        "        \"bus_id\": 256,\n",
        "        \"stop_id\": 3,\n",
        "        \"stop_name\": \"Elm\",\n",
        "        \"next_stop\": 6,\n",
        "        \"stop_type\": \"\",\n",
        "        \"a_time\": \"09:45\"\n",
        "    },\n",
        "    {\n",
        "        \"bus_id\": 256,\n",
        "        \"stop_id\": 6,\n",
        "        \"stop_name\": \"Sunset Boulevard\",\n",
        "        \"next_stop\": 7,\n",
        "        \"stop_type\": \"A\",\n",
        "        \"a_time\": \"09:59\"\n",
        "    },\n",
        "    {\n",
        "        \"bus_id\": 256,\n",
        "        \"stop_id\": 7,\n",
        "        \"stop_name\": \"Sesame Street\",\n",
        "        \"next_stop\": \"0\",\n",
        "        \"stop_type\": \"F\",\n",
        "        \"a_time\": \"10.12\"\n",
        "    },\n",
        "    {\n",
        "        \"bus_id\": 512,\n",
        "        \"stop_id\": 4,\n",
        "        \"stop_name\": \"bourbon street\",\n",
        "        \"next_stop\": 6,\n",
        "        \"stop_type\": \"S\",\n",
        "        \"a_time\": \"38:13\"\n",
        "    },\n",
        "    {\n",
        "        \"bus_id\": 512,\n",
        "        \"stop_id\": 6,\n",
        "        \"stop_name\": \"Sunset Boulevard\",\n",
        "        \"next_stop\": 0,\n",
        "        \"stop_type\": \"F\",\n",
        "        \"a_time\": \"08:16\"\n",
        "    }\n",
        "] '''"
      ]
    },
    {
      "cell_type": "markdown",
      "source": [
        "## Stages 1 & 2"
      ],
      "metadata": {
        "id": "0-hWeA-3Sf77"
      }
    },
    {
      "cell_type": "code",
      "source": [
        "import json\n",
        "import re\n",
        "\n",
        "data = json.loads(input_json)\n",
        "\n",
        "errors = {\n",
        "    \"total\": 0,\n",
        "    \"bus_id\": 0,\n",
        "    \"stop_id\": 0,\n",
        "    \"stop_name\": 0,\n",
        "    \"next_stop\": 0,\n",
        "    \"stop_type\": 0,\n",
        "    \"a_time\": 0,\n",
        "}\n",
        "\n",
        "required_fields = [\"bus_id\", \"stop_id\", \"stop_name\", \"next_stop\", \"a_time\"]\n",
        "fields_in_order = [\"bus_id\", \"stop_id\", \"stop_name\", \"next_stop\", \"stop_type\", \"a_time\"]\n",
        "\n",
        "field_types = {\n",
        "    \"bus_id\": int,\n",
        "    \"stop_id\": int,\n",
        "    \"stop_name\": str,\n",
        "    \"next_stop\": int,\n",
        "    \"stop_type\": str,\n",
        "    \"a_time\": str,\n",
        "}\n",
        "\n",
        "for record in data:\n",
        "    for field in required_fields:\n",
        "        if field not in record or record[field] == \"\":\n",
        "            errors[field] += 1\n",
        "            errors[\"total\"] += 1\n",
        "\n",
        "    for field, field_type in field_types.items():\n",
        "        if field in record and record[field] != \"\":\n",
        "            if field == \"stop_type\":\n",
        "                if not (isinstance(record[field], field_type) and (len(record[field]) == 1 or len(record[field]) == 0)):\n",
        "                     errors[field] += 1\n",
        "                     errors[\"total\"] += 1\n",
        "                if not (record[field] in [\"S\", \"O\", \"F\"]):\n",
        "                     errors[field] += 1\n",
        "                     errors[\"total\"] += 1\n",
        "            elif field == \"stop_name\":\n",
        "                 if not re.match(r\"^[A-Z][a-zA-Z\\s]* (Street|Road|Avenue|Boulevard)$\", record[field]):\n",
        "                    errors[field] += 1\n",
        "                    errors[\"total\"] += 1\n",
        "            elif field == \"a_time\":\n",
        "                if not re.match(r\"^(0[0-9]|1[0-9]|2[0-3]):[0-5][0-9]$\", record[field]):\n",
        "                     errors[field] += 1\n",
        "                     errors[\"total\"] += 1\n",
        "            else:\n",
        "                if not isinstance(record[field], field_type):\n",
        "                    errors[field] += 1\n",
        "                    errors[\"total\"] += 1\n",
        "\n",
        "\n",
        "print(f\"Type and field validation: {errors['total']} errors\")\n",
        "for field in fields_in_order:\n",
        "    if field != \"total\":\n",
        "        print(f\"{field}: {errors[field]}\")"
      ],
      "metadata": {
        "colab": {
          "base_uri": "https://localhost:8080/"
        },
        "id": "1Rz3Q2XGNm38",
        "outputId": "f50e2d0e-50e2-4a39-db31-8ff943c5b1db"
      },
      "execution_count": 19,
      "outputs": [
        {
          "output_type": "stream",
          "name": "stdout",
          "text": [
            "Type and field validation: 11 errors\n",
            "bus_id: 0\n",
            "stop_id: 1\n",
            "stop_name: 3\n",
            "next_stop: 1\n",
            "stop_type: 2\n",
            "a_time: 4\n"
          ]
        }
      ]
    },
    {
      "cell_type": "markdown",
      "source": [
        "### Stage 3"
      ],
      "metadata": {
        "id": "m5c3L34kAzXb"
      }
    },
    {
      "cell_type": "code",
      "source": [
        "bus_stops = {}\n",
        "for record in data:\n",
        "    bus_id = record.get(\"bus_id\")\n",
        "    stop_id = record.get(\"stop_id\")\n",
        "    if bus_id is not None and stop_id is not None:\n",
        "        if bus_id not in bus_stops:\n",
        "            bus_stops[bus_id] = set()\n",
        "        bus_stops[bus_id].add(stop_id)\n",
        "\n",
        "for bus_id in sorted(bus_stops.keys()):\n",
        "    print(f\"bus_id: {bus_id} stops: {len(bus_stops[bus_id])}\")"
      ],
      "metadata": {
        "colab": {
          "base_uri": "https://localhost:8080/"
        },
        "id": "FEBr-VIBA00z",
        "outputId": "8c0909ed-5c45-4fa1-e20e-ab781f14669e"
      },
      "execution_count": 26,
      "outputs": [
        {
          "output_type": "stream",
          "name": "stdout",
          "text": [
            "bus_id: 128 stops: 4\n",
            "bus_id: 256 stops: 4\n",
            "bus_id: 512 stops: 2\n"
          ]
        }
      ]
    },
    {
      "cell_type": "markdown",
      "source": [
        "### Stage 4"
      ],
      "metadata": {
        "id": "-HZQmMddB5n4"
      }
    },
    {
      "cell_type": "code",
      "source": [
        "break_flag = False\n",
        "for bus_id in bus_stops_set:\n",
        "    if len(start_stops.get(bus_id, [])) != 1 or len(finish_stops.get(bus_id, [])) != 1:\n",
        "        print(f\"There is no start or end stop for the line: {bus_id}\")\n",
        "        break_flag = True\n",
        "        break\n",
        "\n",
        "if not break_flag:\n",
        "    all_stops = {}\n",
        "    for record in data:\n",
        "        bus_id = record.get(\"bus_id\")\n",
        "        stop_id = record.get(\"stop_id\")\n",
        "        stop_name = record.get(\"stop_name\")\n",
        "        if bus_id is not None and stop_id is not None and stop_name is not None:\n",
        "            if stop_name not in all_stops:\n",
        "                all_stops[stop_name] = []\n",
        "            all_stops[stop_name].append(bus_id)\n",
        "\n",
        "\n",
        "    start_stop_names = set()\n",
        "    finish_stop_names = set()\n",
        "    transfer_stop_names = set()\n",
        "\n",
        "    for record in data:\n",
        "        stop_type = record.get(\"stop_type\")\n",
        "        stop_name = record.get(\"stop_name\")\n",
        "        if stop_name and stop_type:\n",
        "            if stop_type == \"S\":\n",
        "                start_stop_names.add(stop_name)\n",
        "            elif stop_type == \"F\":\n",
        "                finish_stop_names.add(stop_name)\n",
        "\n",
        "    for stop_name, bus_ids in all_stops.items():\n",
        "        if len(set(bus_ids)) >= 2:\n",
        "            transfer_stop_names.add(stop_name)\n",
        "\n",
        "    print(f\"\\nStart stops: {len(start_stop_names)} {sorted(list(start_stop_names))}\")\n",
        "    print(f\"Transfer stops: {len(transfer_stop_names)} {sorted(list(transfer_stop_names))}\")\n",
        "    print(f\"Finish stops: {len(finish_stop_names)} {sorted(list(finish_stop_names))}\")"
      ],
      "metadata": {
        "colab": {
          "base_uri": "https://localhost:8080/"
        },
        "id": "PIEvvJGFB7af",
        "outputId": "eb0b9285-a37b-4678-cf6d-1d40aa39ca23"
      },
      "execution_count": 25,
      "outputs": [
        {
          "output_type": "stream",
          "name": "stdout",
          "text": [
            "\n",
            "Start stops: 3 ['Pilotow Street', 'Prospekt Av.', 'bourbon street']\n",
            "Transfer stops: 2 ['Sesame Street', 'Sunset Boulevard']\n",
            "Finish stops: 2 ['Sesame Street', 'Sunset Boulevard']\n"
          ]
        }
      ]
    }
  ]
}